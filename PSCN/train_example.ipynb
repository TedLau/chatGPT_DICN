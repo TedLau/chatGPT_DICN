{
 "cells": [
  {
   "cell_type": "markdown",
   "metadata": {},
   "source": [
    "# A simple training example on mutag\n"
   ]
  },
  {
   "cell_type": "code",
   "execution_count": 1,
   "metadata": {},
   "outputs": [],
   "source": [
    "from data_loader import load_local_data"
   ]
  },
  {
   "cell_type": "code",
   "execution_count": 4,
   "metadata": {},
   "outputs": [],
   "source": [
    "\n",
    "\n",
    "\n",
    "from sklearn.model_selection import train_test_split\n",
    "import numpy as np"
   ]
  },
  {
   "cell_type": "code",
   "execution_count": null,
   "metadata": {
    "pycharm": {
     "is_executing": true
    }
   },
   "outputs": [],
   "source": [
    "from pscn import PSCN"
   ]
  },
  {
   "cell_type": "code",
   "execution_count": 1,
   "metadata": {},
   "outputs": [],
   "source": [
    "import networkx as nx"
   ]
  },
  {
   "cell_type": "markdown",
   "metadata": {},
   "source": [
    "### On the Mutag dataset"
   ]
  },
  {
   "cell_type": "code",
   "execution_count": 2,
   "metadata": {},
   "outputs": [
    {
     "ename": "NameError",
     "evalue": "name 'load_local_data' is not defined",
     "output_type": "error",
     "traceback": [
      "\u001B[0;31m---------------------------------------------------------------------------\u001B[0m",
      "\u001B[0;31mNameError\u001B[0m                                 Traceback (most recent call last)",
      "Cell \u001B[0;32mIn [2], line 1\u001B[0m\n\u001B[0;32m----> 1\u001B[0m mutag_dataset\u001B[38;5;241m=\u001B[39m\u001B[43mload_local_data\u001B[49m(\u001B[38;5;124m'\u001B[39m\u001B[38;5;124m./data\u001B[39m\u001B[38;5;124m'\u001B[39m,\u001B[38;5;124m'\u001B[39m\u001B[38;5;124mimdb-b\u001B[39m\u001B[38;5;124m'\u001B[39m)\n\u001B[1;32m      2\u001B[0m X,y\u001B[38;5;241m=\u001B[39m\u001B[38;5;28mzip\u001B[39m(\u001B[38;5;241m*\u001B[39mmutag_dataset)\n",
      "\u001B[0;31mNameError\u001B[0m: name 'load_local_data' is not defined"
     ]
    }
   ],
   "source": [
    "mutag_dataset=load_local_data('./data','imdb-b')\n",
    "X,y=zip(*mutag_dataset)"
   ]
  },
  {
   "cell_type": "markdown",
   "metadata": {},
   "source": [
    "X is a list of Graph objects and y the list of the classes"
   ]
  },
  {
   "cell_type": "code",
   "execution_count": 3,
   "metadata": {},
   "outputs": [],
   "source": [
    "pscn=PSCN(w=18,k=10,one_hot=7,epochs=10,batch_size=32,verbose=2) #see receptive_field_maker_example for more details"
   ]
  },
  {
   "cell_type": "code",
   "execution_count": 4,
   "metadata": {
    "collapsed": true
   },
   "outputs": [],
   "source": [
    "X_train, X_test, y_train, y_test=train_test_split(X,y,test_size=0.33, random_state=42)"
   ]
  },
  {
   "cell_type": "code",
   "execution_count": 5,
   "metadata": {
    "scrolled": false
   },
   "outputs": [
    {
     "name": "stdout",
     "output_type": "stream",
     "text": [
      "Time preprocess data in s 9.339599132537842\n",
      "Epoch 1/10\n",
      " - 0s - loss: 0.6318 - acc: 0.6800\n",
      "Epoch 2/10\n",
      " - 0s - loss: 0.5732 - acc: 0.7040\n",
      "Epoch 3/10\n",
      " - 0s - loss: 0.5354 - acc: 0.7040\n",
      "Epoch 4/10\n",
      " - 0s - loss: 0.4906 - acc: 0.7680\n",
      "Epoch 5/10\n",
      " - 0s - loss: 0.4663 - acc: 0.7680\n",
      "Epoch 6/10\n",
      " - 0s - loss: 0.4529 - acc: 0.7920\n",
      "Epoch 7/10\n",
      " - 0s - loss: 0.4215 - acc: 0.8080\n",
      "Epoch 8/10\n",
      " - 0s - loss: 0.4086 - acc: 0.8240\n",
      "Epoch 9/10\n",
      " - 0s - loss: 0.3986 - acc: 0.8080\n",
      "Epoch 10/10\n",
      " - 0s - loss: 0.3938 - acc: 0.8080\n",
      "Time fit data in s 0.7748610973358154\n"
     ]
    }
   ],
   "source": [
    "pscn.fit(X_train,y_train)"
   ]
  },
  {
   "cell_type": "code",
   "execution_count": 6,
   "metadata": {},
   "outputs": [
    {
     "name": "stdout",
     "output_type": "stream",
     "text": [
      "Time preprocess data in s 5.093190908432007\n"
     ]
    }
   ],
   "source": [
    "preds=pscn.predict(X_test)"
   ]
  },
  {
   "cell_type": "code",
   "execution_count": 7,
   "metadata": {},
   "outputs": [
    {
     "data": {
      "text/plain": [
       "0.9206349206349206"
      ]
     },
     "execution_count": 7,
     "metadata": {},
     "output_type": "execute_result"
    }
   ],
   "source": [
    "np.sum(preds==y_test)/len(y_test)"
   ]
  },
  {
   "cell_type": "markdown",
   "metadata": {},
   "source": [
    "#### On BZR dataset"
   ]
  },
  {
   "cell_type": "code",
   "execution_count": 9,
   "metadata": {
    "collapsed": true
   },
   "outputs": [],
   "source": [
    "bzr_dataset=load_local_data('./data','bzr',attributes=True)\n",
    "X,y=zip(*bzr_dataset)"
   ]
  },
  {
   "cell_type": "code",
   "execution_count": 11,
   "metadata": {},
   "outputs": [],
   "source": [
    "pscn=PSCN(w=35,k=5,epochs=10,batch_size=32,verbose=2,attr_dim=3,dummy_value=np.repeat(0,3)) #see receptive_field_maker_example for more details"
   ]
  },
  {
   "cell_type": "code",
   "execution_count": 12,
   "metadata": {
    "collapsed": true
   },
   "outputs": [],
   "source": [
    "X_train, X_test, y_train, y_test=train_test_split(X,y,test_size=0.33, random_state=42)"
   ]
  },
  {
   "cell_type": "code",
   "execution_count": 13,
   "metadata": {},
   "outputs": [
    {
     "name": "stdout",
     "output_type": "stream",
     "text": [
      "Time preprocess data in s 31.14738392829895\n",
      "Epoch 1/10\n",
      " - 0s - loss: 0.9218 - acc: 0.6125\n",
      "Epoch 2/10\n",
      " - 0s - loss: 0.5406 - acc: 0.7491\n",
      "Epoch 3/10\n",
      " - 0s - loss: 0.4094 - acc: 0.8155\n",
      "Epoch 4/10\n",
      " - 0s - loss: 0.3733 - acc: 0.8339\n",
      "Epoch 5/10\n",
      " - 0s - loss: 0.3133 - acc: 0.8413\n",
      "Epoch 6/10\n",
      " - 0s - loss: 0.2844 - acc: 0.8819\n",
      "Epoch 7/10\n",
      " - 0s - loss: 0.2691 - acc: 0.8782\n",
      "Epoch 8/10\n",
      " - 0s - loss: 0.2180 - acc: 0.9041\n",
      "Epoch 9/10\n",
      " - 0s - loss: 0.2572 - acc: 0.8856\n",
      "Epoch 10/10\n",
      " - 0s - loss: 0.1871 - acc: 0.9225\n",
      "Time fit data in s 1.2493200302124023\n"
     ]
    }
   ],
   "source": [
    "pscn.fit(X_train,y_train)"
   ]
  },
  {
   "cell_type": "code",
   "execution_count": 14,
   "metadata": {},
   "outputs": [
    {
     "name": "stdout",
     "output_type": "stream",
     "text": [
      "Time preprocess data in s 15.07987904548645\n"
     ]
    }
   ],
   "source": [
    "preds=pscn.predict(X_test)"
   ]
  },
  {
   "cell_type": "code",
   "execution_count": 15,
   "metadata": {},
   "outputs": [
    {
     "data": {
      "text/plain": [
       "0.8134328358208955"
      ]
     },
     "execution_count": 15,
     "metadata": {},
     "output_type": "execute_result"
    }
   ],
   "source": [
    "np.sum(preds==y_test)/len(y_test)"
   ]
  }
 ],
 "metadata": {
  "anaconda-cloud": {},
  "kernelspec": {
   "display_name": "Python 3 (ipykernel)",
   "language": "python",
   "name": "python3"
  },
  "language_info": {
   "codemirror_mode": {
    "name": "ipython",
    "version": 3
   },
   "file_extension": ".py",
   "mimetype": "text/x-python",
   "name": "python",
   "nbconvert_exporter": "python",
   "pygments_lexer": "ipython3",
   "version": "3.9.15"
  }
 },
 "nbformat": 4,
 "nbformat_minor": 1
}
